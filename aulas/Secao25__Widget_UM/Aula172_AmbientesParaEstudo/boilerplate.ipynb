{
 "cells": [
  {
   "cell_type": "code",
   "execution_count": 1,
   "metadata": {
    "pycharm": {
     "is_executing": false
    }
   },
   "outputs": [
    {
     "name": "stderr",
     "text": [
      "[INFO   ] [Logger      ] Record log in C:\\Users\\X50\\.kivy\\logs\\kivy_20-08-23_46.txt\n",
      "[INFO   ] [Factory     ] 184 symbols loaded\n",
      "[INFO   ] [Image       ] Providers: img_tex, img_dds, img_sdl2, img_pil, img_gif (img_ffpyplayer ignored)\n",
      "[INFO   ] [Text        ] Provider: sdl2\n",
      "[INFO   ] [Kivy        ] v1.11.1\n",
      "[INFO   ] [Kivy        ] Installed at \"C:\\ProgramData\\Anaconda3\\lib\\site-packages\\kivy\\__init__.py\"\n",
      "[INFO   ] [Python      ] v3.8.3 (default, Jul  2 2020, 17:30:36) [MSC v.1916 64 bit (AMD64)]\n",
      "[INFO   ] [Python      ] Interpreter at \"C:\\ProgramData\\Anaconda3\\python.exe\"\n",
      "[WARNING] [Deprecated  ] Call to deprecated function __init__ in C:\\ProgramData\\Anaconda3\\lib\\site-packages\\kivy\\interactive.py line 308.Called from <ipython-input-2-6626c71a6ad2> line 5 by <module>().\n",
      "[INFO   ] [Window      ] Provider: sdl2\n",
      "[INFO   ] [GL          ] Using the \"OpenGL\" graphics system\n",
      "[INFO   ] [GL          ] GLEW initialization succeeded\n",
      "[INFO   ] [GL          ] Backend used <glew>\n",
      "[INFO   ] [GL          ] OpenGL version <b'4.6.0 NVIDIA 430.63'>\n",
      "[INFO   ] [GL          ] OpenGL vendor <b'NVIDIA Corporation'>\n",
      "[INFO   ] [GL          ] OpenGL renderer <b'GeForce MX110/PCIe/SSE2'>\n",
      "[INFO   ] [GL          ] OpenGL parsed version: 4, 6\n",
      "[INFO   ] [GL          ] Shading version <b'4.60 NVIDIA'>\n",
      "[INFO   ] [GL          ] Texture max size <16384>\n",
      "[INFO   ] [GL          ] Texture max units <32>\n",
      "[INFO   ] [Window      ] auto add sdl2 input provider\n",
      "[INFO   ] [Window      ] virtual keyboard not allowed, single mode, not docked\n",
      "[INFO   ] [Base        ] Start application main loop\n",
      "[INFO   ] [GL          ] NPOT texture support is available\n",
      "[INFO   ] [WindowSDL   ] exiting mainloop and closing.\n",
      "[INFO   ] [Base        ] Leaving application in progress...\n"
     ],
     "output_type": "stream"
    }
   ],
   "source": [
    "#coding: utf-8\n",
    "\n",
    "from kivy.app import App\n",
    "from kivy.uix.button import Button\n",
    "from kivy.interactive import InteractiveLauncher\n",
    "from kivy.lang import Builder\n",
    "\n",
    "#força a aplicação a não iniciar em tela cheia\n",
    "from kivy.config import Config\n",
    "Config.set(\"graphics\", \"fullscreen\", \"0\")\n",
    "\n",
    "janela = None\n",
    "glayout = None"
   ]
  },
  {
   "cell_type": "code",
   "execution_count": 2,
   "metadata": {
    "pycharm": {
     "is_executing": false
    }
   },
   "outputs": [],
   "source": [
    "class JanelaApp(App):\n",
    "    pass\n",
    "\n",
    "janela = JanelaApp()\n",
    "ji = InteractiveLauncher( janela )\n",
    "ji.run()"
   ]
  },
  {
   "cell_type": "code",
   "execution_count": 3,
   "metadata": {
    "pycharm": {
     "is_executing": false
    }
   },
   "outputs": [],
   "source": [
    "kvcode = \"\"\"\n",
    "Button:\n",
    "\"\"\"\n",
    "\n",
    "if(janela.root):\n",
    "    janela.root_window.remove_widget( janela.root )\n",
    "    janela.root = None\n",
    "    glayout = None\n",
    "\n",
    "janela.root = glayout = Builder.load_string( kvcode )\n",
    "janela.root_window.add_widget( glayout )"
   ]
  },
  {
   "cell_type": "code",
   "execution_count": 3,
   "metadata": {
    "pycharm": {
     "is_executing": false
    }
   },
   "outputs": [],
   "source": []
  },
  {
   "cell_type": "code",
   "execution_count": 3,
   "metadata": {
    "pycharm": {
     "is_executing": false
    }
   },
   "outputs": [],
   "source": []
  },
  {
   "cell_type": "code",
   "execution_count": 3,
   "metadata": {
    "pycharm": {
     "is_executing": false
    }
   },
   "outputs": [],
   "source": []
  }
 ],
 "metadata": {
  "kernelspec": {
   "display_name": "Python 3",
   "language": "python",
   "name": "python3"
  },
  "language_info": {
   "codemirror_mode": {
    "name": "ipython",
    "version": 3
   },
   "file_extension": ".py",
   "mimetype": "text/x-python",
   "name": "python",
   "nbconvert_exporter": "python",
   "pygments_lexer": "ipython3",
   "version": "3.7.3"
  },
  "pycharm": {
   "stem_cell": {
    "cell_type": "raw",
    "source": [],
    "metadata": {
     "collapsed": false
    }
   }
  }
 },
 "nbformat": 4,
 "nbformat_minor": 1
}